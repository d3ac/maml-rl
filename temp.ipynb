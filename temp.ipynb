{
 "cells": [
  {
   "cell_type": "code",
   "execution_count": 6,
   "metadata": {},
   "outputs": [
    {
     "name": "stdout",
     "output_type": "stream",
     "text": [
      "tensor([2, 2, 3])\n"
     ]
    }
   ],
   "source": [
    "import numpy as np\n",
    "\n",
    "def compute_GAE(self, mb_rewards, mb_values, mb_dones):\n",
    "    mb_rewards = np.asarray(mb_rewards, dtype=np.float32)\n",
    "    mb_values = np.asarray(mb_values, dtype=np.float32)\n",
    "    mb_dones = np.asarray(mb_dones, dtype=np.bool)\n",
    "    last_values = self.model.value(self.obs, S=self.states, M=self.dones)\n",
    "    mb_advs = np.zeros_like(mb_rewards)\n",
    "    lastgaelam = 0\n",
    "    for t in reversed(range(self.nsteps)):  # 倒序实现，便于进行递归\n",
    "        if t == self.nsteps - 1:  # 如果是最后一步，要判断当前是否是终止状态，如果是，next_value就是0\n",
    "            nextnonterminal = 1.0 - self.dones\n",
    "            nextvalues = last_values\n",
    "        else:\n",
    "            nextnonterminal = 1.0 - mb_dones[t + 1]\n",
    "            nextvalues = mb_values[t + 1]\n",
    "        delta = mb_rewards[t] + self.gamma * nextvalues * nextnonterminal - mb_values[t]\n",
    "        mb_advs[t] = lastgaelam = delta + self.gamma * self.lam * nextnonterminal * lastgaelam"
   ]
  }
 ],
 "metadata": {
  "kernelspec": {
   "display_name": "base",
   "language": "python",
   "name": "python3"
  },
  "language_info": {
   "codemirror_mode": {
    "name": "ipython",
    "version": 3
   },
   "file_extension": ".py",
   "mimetype": "text/x-python",
   "name": "python",
   "nbconvert_exporter": "python",
   "pygments_lexer": "ipython3",
   "version": "3.8.13"
  },
  "orig_nbformat": 4
 },
 "nbformat": 4,
 "nbformat_minor": 2
}
