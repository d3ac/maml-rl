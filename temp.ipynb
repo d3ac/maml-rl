{
 "cells": [
  {
   "cell_type": "code",
   "execution_count": 10,
   "metadata": {},
   "outputs": [],
   "source": [
    "import torch\n",
    "import numpy as np"
   ]
  },
  {
   "cell_type": "code",
   "execution_count": 11,
   "metadata": {},
   "outputs": [],
   "source": [
    "a = [[1, 2, 3],[4, 5, 6],[8, 9, 10]]"
   ]
  },
  {
   "cell_type": "code",
   "execution_count": 12,
   "metadata": {},
   "outputs": [
    {
     "ename": "TypeError",
     "evalue": "log(): argument 'input' (position 1) must be Tensor, not int",
     "output_type": "error",
     "traceback": [
      "\u001b[0;31m---------------------------------------------------------------------------\u001b[0m",
      "\u001b[0;31mTypeError\u001b[0m                                 Traceback (most recent call last)",
      "Cell \u001b[0;32mIn[12], line 1\u001b[0m\n\u001b[0;32m----> 1\u001b[0m torch\u001b[39m.\u001b[39;49mlog(\u001b[39m3\u001b[39;49m)\n",
      "\u001b[0;31mTypeError\u001b[0m: log(): argument 'input' (position 1) must be Tensor, not int"
     ]
    }
   ],
   "source": [
    "torch.log(3)"
   ]
  },
  {
   "cell_type": "code",
   "execution_count": 23,
   "metadata": {},
   "outputs": [
    {
     "data": {
      "text/plain": [
       "-2.3025850929940455"
      ]
     },
     "execution_count": 23,
     "metadata": {},
     "output_type": "execute_result"
    }
   ],
   "source": [
    "np.log(0.1)"
   ]
  },
  {
   "cell_type": "code",
   "execution_count": 36,
   "metadata": {},
   "outputs": [
    {
     "name": "stdout",
     "output_type": "stream",
     "text": [
      "torch.Size([10, 6, 4])\n"
     ]
    }
   ],
   "source": [
    "import torch\n",
    "from torch.distributions import Normal, Independent\n",
    "\n",
    "# 创建一个形状为 (batch_size, num_classes, num_features) 的张量 x\n",
    "batch_size, num_classes, num_features = 2, 3, 4\n",
    "x = torch.randn(batch_size, num_classes, num_features)\n",
    "\n",
    "# 将 x 重塑为形状为 (batch_size * num_classes, num_features) 的张量\n",
    "x_reshaped = x.view(batch_size * num_classes, num_features)\n",
    "\n",
    "# 使用 Independent 类将 x_reshaped 的最后一个维度重新解释为独立的批次维度\n",
    "x_dist = Independent(Normal(loc=x_reshaped, scale=torch.ones_like(x_reshaped)), reinterpreted_batch_ndims=2)\n",
    "\n",
    "# 生成样本\n",
    "samples = x_dist.sample(torch.Size([10]))\n",
    "print(samples.shape)  # 输出：torch.Size([10, 6, 4])"
   ]
  },
  {
   "cell_type": "code",
   "execution_count": 47,
   "metadata": {},
   "outputs": [],
   "source": [
    "a = torch.tensor([1.0, 5.0, 7.0])\n",
    "b = torch.tensor([1.0, 2.0, 3.0])\n",
    "x = Normal(loc=a, scale=b)\n",
    "x.sample()"
   ]
  },
  {
   "cell_type": "code",
   "execution_count": 48,
   "metadata": {},
   "outputs": [
    {
     "data": {
      "text/plain": [
       "tensor([0.7605, 8.2674, 7.5269])"
      ]
     },
     "execution_count": 48,
     "metadata": {},
     "output_type": "execute_result"
    }
   ],
   "source": []
  },
  {
   "cell_type": "code",
   "execution_count": null,
   "metadata": {},
   "outputs": [],
   "source": []
  }
 ],
 "metadata": {
  "kernelspec": {
   "display_name": "base",
   "language": "python",
   "name": "python3"
  },
  "language_info": {
   "codemirror_mode": {
    "name": "ipython",
    "version": 3
   },
   "file_extension": ".py",
   "mimetype": "text/x-python",
   "name": "python",
   "nbconvert_exporter": "python",
   "pygments_lexer": "ipython3",
   "version": "3.8.13"
  },
  "orig_nbformat": 4
 },
 "nbformat": 4,
 "nbformat_minor": 2
}
